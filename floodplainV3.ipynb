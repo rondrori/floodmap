{
  "cells": [
    {
      "cell_type": "markdown",
      "metadata": {
        "id": "view-in-github",
        "colab_type": "text"
      },
      "source": [
        "<a href=\"https://colab.research.google.com/github/rondrori/floodmap/blob/main/floodplainV3.ipynb\" target=\"_parent\"><img src=\"https://colab.research.google.com/assets/colab-badge.svg\" alt=\"Open In Colab\"/></a>"
      ]
    },
    {
      "cell_type": "markdown",
      "metadata": {
        "id": "uIAEA4kDO0VS"
      },
      "source": [
        "Detecting floodplains from topography using\n",
        "[pyflwdir](https://github.com/Deltares/pyflwdir)\n",
        "based on this [example](https://github.com/Deltares/pyflwdir/blob/main/examples/elevation_indices.ipynb)\n",
        "\n",
        "1. Read subset of DTM file.\n",
        "2. Calculate flow direction.\n",
        "3. Calculate upstream area.\n",
        "4. calculate height above nearest drain (HAND) using [Nobre et al (2016)](https://doi.org/10.1002/hyp.10581)\n",
        "5. Delineate floodplains using [Nardi et al (2019)](http://www.doi.org/10.1038/sdata.2018.309)"
      ]
    },
    {
      "cell_type": "code",
      "execution_count": null,
      "metadata": {
        "id": "xoEDEtXSOu1c"
      },
      "outputs": [],
      "source": [
        "# Install libs\n",
        "!pip install pyflwdir\n",
        "!pip install rasterio\n",
        "!pip install cartopy>=0.20\n",
        "!pip install descartes\n",
        "!pip install geopandas>=0.8\n",
        "!pip install matplotlib\n",
        "!pip install rasterio\n"
      ]
    },
    {
      "cell_type": "code",
      "execution_count": 7,
      "metadata": {
        "id": "yh--dTrZSCs0"
      },
      "outputs": [],
      "source": [
        "# Imports\n",
        "import math\n",
        "import rasterio\n",
        "import pyflwdir\n",
        "import matplotlib.pyplot as plt\n",
        "from rasterio.merge import merge\n",
        "from rasterio.plot import show\n",
        "import glob\n",
        "import os"
      ]
    },
    {
      "cell_type": "code",
      "execution_count": 8,
      "metadata": {
        "id": "xKfqa-1kSKIL"
      },
      "outputs": [],
      "source": [
        "# Config ---\n",
        "\n",
        "# DATA - dont forget to connect drive\n",
        "file = '/content/drive/MyDrive/MAPI/DTM_Israel_10m_2017_2022.tif'\n",
        "\n",
        "# blocksize to read (geotiff block size 512)\n",
        "blkSize = 512\n",
        "\n",
        "# how many blocks in tile\n",
        "blkFactor = 10\n",
        "\n",
        "# tile size\n",
        "tileSize = blkSize * blkFactor\n",
        "\n",
        "# flood threshokd\n",
        "floodTrsh = 250\n"
      ]
    },
    {
      "cell_type": "code",
      "execution_count": 9,
      "metadata": {
        "id": "tUOH4ybISplj"
      },
      "outputs": [],
      "source": [
        "# Read file properties\n",
        "\n",
        "with rasterio.open(file, \"r\") as src:\n",
        "    nodata = src.nodata\n",
        "    transform = src.transform\n",
        "    crs = src.crs\n",
        "    prf = src.profile\n",
        "\n",
        "width  = prf['width']\n",
        "height = prf['height']\n",
        "src.close()\n"
      ]
    },
    {
      "cell_type": "code",
      "execution_count": 10,
      "metadata": {
        "id": "3CU-8xsBT8Mc"
      },
      "outputs": [],
      "source": [
        "# asssign UL corner and resulotion\n",
        "Xscale = prf['transform'][0]\n",
        "X0 = prf['transform'][2]\n",
        "Yscale = prf['transform'][4]\n",
        "Y0 = prf['transform'][5]\n",
        "\n",
        "# LR corner\n",
        "X1 = X0 + width*Xscale\n",
        "Y1 = Y0 + height*Yscale\n"
      ]
    },
    {
      "cell_type": "code",
      "execution_count": 11,
      "metadata": {
        "id": "JsdYRnuDh3NU"
      },
      "outputs": [],
      "source": [
        "# calculate UL corner for tile\n",
        "def ULtile(X0, Y0, x, y, tileSize):\n",
        "  Xmin = X0 + Xscale * x * tileSize\n",
        "  Xmax = Xmin + tileSize * Xscale\n",
        "  Ymax = Y0 + Yscale * y * tileSize\n",
        "  Ymin =  Ymax + tileSize * Yscale\n",
        "  return Xmin, Xmax, Ymin, Ymax"
      ]
    },
    {
      "cell_type": "code",
      "execution_count": null,
      "metadata": {
        "id": "q05nRldxU2uj"
      },
      "outputs": [],
      "source": [
        "# calculate number of tiles in each dimession.\n",
        "# geotif is written with rotation (X=height, Y=width)\n",
        "X = math.floor(width/blkSize) + 1\n",
        "Y = math.floor(height/blkSize) + 1\n",
        "\n",
        "# loop over tiles, read and process each\n",
        "for x in range(X):\n",
        "  for y in range(Y):\n",
        "\n",
        "\n",
        "    # calculate current tile corners\n",
        "    Xmin, Xmax, Ymin, Ymax = ULtile(X0, Y0, x, y, tileSize)\n",
        "\n",
        "    # calculate window indices\n",
        "    rowmin = y*tileSize\n",
        "    rowmax = rowmin + tileSize\n",
        "    colmin = x*tileSize\n",
        "    colmax = colmin + tileSize\n",
        "\n",
        "    if rowmax > height:\n",
        "      rowmax = height\n",
        "    if colmax > width:\n",
        "      colmax = width\n",
        "\n",
        "    # read tile\n",
        "    with rasterio.open(file, \"r\") as src:\n",
        "      #elevtn = src.read(1,window=((rowmin, rowmax), (colmin, colmax)))\n",
        "      elevtn = src.read(1,window=((rowmin, rowmax), (colmin, colmax)))\n",
        "      prf = src.profile\n",
        "    src.close()\n",
        "    trns = rasterio.Affine(10.0, 0.0, Xmin,0.0, -10.0, Ymax)\n",
        "    try:\n",
        "      flw = pyflwdir.from_dem(\n",
        "          data=elevtn,\n",
        "          nodata=src.nodata,\n",
        "          transform=trns,\n",
        "          latlon=crs.is_geographic,\n",
        "        )\n",
        "      # first we derive the upstream area map\n",
        "      uparea = flw.upstream_area(\"km2\")\n",
        "      hand = flw.hand(drain=uparea > floodTrsh, elevtn=elevtn)\n",
        "      floodplains = flw.floodplains(elevtn=elevtn, uparea=uparea, upa_min=floodTrsh)\n",
        "\n",
        "      prf.update({'transform': trns, 'width': tileSize, 'height': tileSize, 'dtype': 'int8',  'nodata': -1})\n",
        "      f = f'/content/drive/MyDrive/flow/flood_{x}_{y}_{floodTrsh}.tif'\n",
        "      print(f\"writing: {f}\")\n",
        "      with rasterio.open(f, 'w', **prf) as dst:\n",
        "        dst.write_band(1, floodplains)\n",
        "      dst.close()\n",
        "    except Exception as e:\n",
        "    # Print the error message\n",
        "      print(f\"An error occurred: {e}\")\n",
        "      continue\n",
        "\n",
        "\n",
        "# Define the directory containing the raster files\n",
        "raster_dir = \"/content/drive/MyDrive/flow/\"\n",
        "\n",
        "\n",
        "# List all raster files\n",
        "raster_files = glob.glob(os.path.join(raster_dir, f\"flood*_{floodTrsh}.tif\"))\n",
        "\n",
        "# Open the raster files\n",
        "src_files_to_mosaic = []\n",
        "for fp in raster_files:\n",
        "    src = rasterio.open(fp)\n",
        "    src_files_to_mosaic.append(src)\n",
        "\n",
        "# Merge the rasters\n",
        "mosaic, out_trans = merge(src_files_to_mosaic)\n",
        "\n",
        "# Update the metadata\n",
        "out_meta = src.meta.copy()\n",
        "out_meta.update({\n",
        "    \"driver\": \"GTiff\",\n",
        "    \"height\": mosaic.shape[1],\n",
        "    \"width\": mosaic.shape[2],\n",
        "    \"transform\": out_trans,\n",
        "    \"crs\": src.crs\n",
        "})\n",
        "\n",
        "# Define the output file path\n",
        "output_file = f\"/content/drive/MyDrive/flow/flood_{floodTrsh}_.tif\"\n",
        "\n",
        "# Write the merged raster to disk\n",
        "with rasterio.open(output_file, \"w\", **out_meta) as dest:\n",
        "    dest.write(mosaic)\n",
        "\n",
        "# Optionally, display the merged raster\n",
        "#show(mosaic, cmap='terrain')\n"
      ]
    }
  ],
  "metadata": {
    "colab": {
      "provenance": [],
      "mount_file_id": "1GU3vZdnX4zQoPh5eVArJD_sBvijrkagf",
      "authorship_tag": "ABX9TyPg0NOJGrf8Kc4dfzE4NOi3",
      "include_colab_link": true
    },
    "kernelspec": {
      "display_name": "Python 3",
      "name": "python3"
    },
    "language_info": {
      "name": "python"
    }
  },
  "nbformat": 4,
  "nbformat_minor": 0
}